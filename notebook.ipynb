{
 "cells": [
  {
   "cell_type": "code",
   "execution_count": 4,
   "metadata": {
    "collapsed": true,
    "pycharm": {
     "is_executing": false
    }
   },
   "outputs": [
    {
     "name": "stdout",
     "text": [
      "The autoreload extension is already loaded. To reload it, use:\n  %reload_ext autoreload\n"
     ],
     "output_type": "stream"
    }
   ],
   "source": [
    "%load_ext autoreload\n",
    "%autoreload 2\n",
    "from __future__ import absolute_import\n",
    "\n",
    "import torch\n",
    "import numpy as np\n",
    "from perceptron.models.classification.pytorch import PyTorchModel\n",
    "from perceptron.benchmarks.interval_analysis import NaiveIntervalMetric\n",
    "from perceptron.benchmarks.interval_analysis import SymbolicIntervalMetric\n",
    "from perceptron.utils.criteria.classification import Misclassification\n",
    "from perceptron.utils.image import load_mnist_image\n",
    "from perceptron.utils.tools import bcolors\n",
    "from perceptron.zoo.mnist.model import mnist_model"
   ]
  },
  {
   "cell_type": "code",
   "execution_count": 29,
   "outputs": [],
   "source": [
    "param = {\n",
    "  # epsilon for testing\n",
    "  \"epsilon\" : 0.3,\n",
    "  # epsilon for training\n",
    "  \"train_epsilon\" : 0.3,\n",
    "  # wheter need to check for optimal verified bound\n",
    "  \"optimal_bound\" : True,\n",
    "  # whether to parallelize on multiple gpus for testing\n",
    "  \"parallel\" : True,\n",
    "  # size of the model\n",
    "  \"model_size\" : \"large\",\n",
    "  # dataset for testing\n",
    "  \"dataset\" : \"mnist\",\n",
    "  # number of classes of testing dataset\n",
    "  \"num_classes\" : 10,\n",
    "  # bounds for testing dataset\n",
    "  \"bounds\" : (0,1),\n",
    "  # data format\n",
    "  \"data_format\" : \"channels_first\",\n",
    "  # mnist example image\n",
    "  \"fname\" : \"mnist0.png\",\n",
    "  # shape of images\n",
    "  \"shape\" : (28,28)\n",
    "}\n",
    "\n",
    "image = load_mnist_image(shape=(28, 28), data_format='channels_first', fname='mnist0.png')\n",
    "\n",
    "epsilon = param[\"epsilon\"]"
   ],
   "metadata": {
    "collapsed": false,
    "pycharm": {
     "name": "#%%\n",
     "is_executing": false
    }
   }
  },
  {
   "cell_type": "code",
   "execution_count": 30,
   "outputs": [
    {
     "name": "stdout",
     "text": [
      "Load model from mnist_large_mixtrain_0.3.pth\n"
     ],
     "output_type": "stream"
    }
   ],
   "source": [
    "if param[\"dataset\"] == \"mnist\":\n",
    "\n",
    "  net = mnist_model(model_size=param[\"model_size\"],\n",
    "                    train_epsilon=param[\"train_epsilon\"]).eval()\n",
    "\n",
    "  param[\"num_classes\"] = 10\n",
    "\n",
    "if torch.cuda.is_available():\n",
    "    net = net.cuda()\n",
    "\n",
    "fmodel = PyTorchModel(\n",
    "            net, bounds=param[\"bounds\"], \n",
    "            num_classes=param[\"num_classes\"]\n",
    "          )\n",
    "label = np.argmax(fmodel.predictions(image))"
   ],
   "metadata": {
    "collapsed": false,
    "pycharm": {
     "name": "#%%\n",
     "is_executing": false
    }
   }
  },
  {
   "cell_type": "code",
   "execution_count": 38,
   "outputs": [],
   "source": [
    "from perceptron.benchmarks.carlini_wagner import CarliniWagnerLinfMetric\n",
    "from perceptron.utils.criteria.classification import Misclassification\n",
    "from perceptron.utils.distances import Linf\n",
    "from perceptron.benchmarks.carlini_wagner import CarliniWagnerL2Metric\n",
    "\n",
    "from perceptron.utils.distances import MSE\n",
    "metric = CarliniWagnerL2Metric(fmodel, distance=MSE, criterion=Misclassification())"
   ],
   "metadata": {
    "collapsed": false,
    "pycharm": {
     "name": "#%%\n",
     "is_executing": false
    }
   }
  },
  {
   "cell_type": "code",
   "execution_count": 39,
   "outputs": [
    {
     "name": "stderr",
     "text": [
      "\r  0%|          | 0/10 [00:00<?, ?it/s]",
      "\r 10%|█         | 1/10 [00:02<00:18,  2.06s/it]",
      "\r 20%|██        | 2/10 [00:04<00:16,  2.05s/it]",
      "\r 30%|███       | 3/10 [00:06<00:14,  2.04s/it]",
      "\r 40%|████      | 4/10 [00:08<00:12,  2.04s/it]",
      "\r 50%|█████     | 5/10 [00:11<00:11,  2.36s/it]",
      "\r 60%|██████    | 6/10 [00:13<00:09,  2.27s/it]",
      "\r 70%|███████   | 7/10 [00:17<00:08,  2.72s/it]",
      "\r 80%|████████  | 8/10 [00:27<00:09,  4.98s/it]",
      "\r 90%|█████████ | 9/10 [00:32<00:05,  5.02s/it]",
      "\r100%|██████████| 10/10 [00:42<00:00,  6.57s/it]",
      "\n"
     ],
     "output_type": "stream"
    },
    {
     "name": "stdout",
     "text": [
      "new best adversarial: normalized MSE = 3.47e-02\n",
      "new best adversarial: normalized MSE = 3.47e-02\nnew best adversarial: normalized MSE = 3.47e-02\nnew best adversarial: normalized MSE = 3.47e-02\nnew best adversarial: normalized MSE = 3.47e-02\nnew best adversarial: normalized MSE = 3.47e-02\nnew best adversarial: normalized MSE = 3.47e-02\nnew best adversarial: normalized MSE = 3.47e-02\nnew best adversarial: normalized MSE = 3.47e-02\nnew best adversarial: normalized MSE = 3.47e-02\nnew best adversarial: normalized MSE = 3.47e-02\nnew best adversarial: normalized MSE = 3.47e-02\nnew best adversarial: normalized MSE = 3.47e-02\nnew best adversarial: normalized MSE = 3.47e-02\nnew best adversarial: normalized MSE = 3.47e-02\nnew best adversarial: normalized MSE = 3.47e-02\nnew best adversarial: normalized MSE = 3.47e-02\nnew best adversarial: normalized MSE = 3.47e-02\nnew best adversarial: normalized MSE = 3.47e-02\nnew best adversarial: normalized MSE = 3.47e-02\nnew best adversarial: normalized MSE = 3.47e-02\nnew best adversarial: normalized MSE = 3.47e-02\nnew best adversarial: normalized MSE = 3.47e-02\nnew best adversarial: normalized MSE = 3.47e-02\nnew best adversarial: normalized MSE = 3.47e-02\nnew best adversarial: normalized MSE = 3.47e-02\nnew best adversarial: normalized MSE = 3.47e-02\nnew best adversarial: normalized MSE = 3.47e-02\nnew best adversarial: normalized MSE = 3.47e-02\nnew best adversarial: normalized MSE = 3.47e-02\nnew best adversarial: normalized MSE = 3.47e-02\nnew best adversarial: normalized MSE = 3.47e-02\nnew best adversarial: normalized MSE = 3.47e-02\nnew best adversarial: normalized MSE = 3.47e-02\nnew best adversarial: normalized MSE = 3.47e-02\nnew best adversarial: normalized MSE = 3.47e-02\nnew best adversarial: normalized MSE = 3.47e-02\nnew best adversarial: normalized MSE = 3.47e-02\nnew best adversarial: normalized MSE = 3.47e-02\nnew best adversarial: normalized MSE = 3.47e-02\n",
      "new best adversarial: normalized MSE = 3.47e-02\nnew best adversarial: normalized MSE = 3.47e-02\nnew best adversarial: normalized MSE = 3.47e-02\nnew best adversarial: normalized MSE = 3.47e-02\nnew best adversarial: normalized MSE = 3.47e-02\nnew best adversarial: normalized MSE = 3.47e-02\nnew best adversarial: normalized MSE = 3.47e-02\nnew best adversarial: normalized MSE = 3.47e-02\nnew best adversarial: normalized MSE = 3.47e-02\nnew best adversarial: normalized MSE = 3.47e-02\nnew best adversarial: normalized MSE = 3.47e-02\nnew best adversarial: normalized MSE = 3.47e-02\nnew best adversarial: normalized MSE = 3.47e-02\nnew best adversarial: normalized MSE = 3.47e-02\nnew best adversarial: normalized MSE = 3.47e-02\nnew best adversarial: normalized MSE = 3.46e-02\nnew best adversarial: normalized MSE = 3.46e-02\nnew best adversarial: normalized MSE = 3.46e-02\nnew best adversarial: normalized MSE = 3.46e-02\nnew best adversarial: normalized MSE = 3.46e-02\nnew best adversarial: normalized MSE = 3.46e-02\nnew best adversarial: normalized MSE = 3.46e-02\nnew best adversarial: normalized MSE = 3.46e-02\nnew best adversarial: normalized MSE = 3.46e-02\nnew best adversarial: normalized MSE = 3.46e-02\nnew best adversarial: normalized MSE = 3.46e-02\nnew best adversarial: normalized MSE = 3.46e-02\nnew best adversarial: normalized MSE = 3.46e-02\nnew best adversarial: normalized MSE = 3.46e-02\nnew best adversarial: normalized MSE = 3.46e-02\nnew best adversarial: normalized MSE = 3.46e-02\nnew best adversarial: normalized MSE = 3.46e-02\nnew best adversarial: normalized MSE = 3.46e-02\nnew best adversarial: normalized MSE = 3.46e-02\nnew best adversarial: normalized MSE = 3.46e-02\nnew best adversarial: normalized MSE = 3.46e-02\nnew best adversarial: normalized MSE = 3.46e-02\n",
      "new best adversarial: normalized MSE = 3.46e-02\nnew best adversarial: normalized MSE = 3.46e-02\nnew best adversarial: normalized MSE = 3.46e-02\nnew best adversarial: normalized MSE = 3.46e-02\nnew best adversarial: normalized MSE = 3.46e-02\nnew best adversarial: normalized MSE = 3.46e-02\nnew best adversarial: normalized MSE = 3.46e-02\nnew best adversarial: normalized MSE = 3.46e-02\nnew best adversarial: normalized MSE = 3.46e-02\nnew best adversarial: normalized MSE = 3.46e-02\nnew best adversarial: normalized MSE = 3.46e-02\nnew best adversarial: normalized MSE = 3.46e-02\nnew best adversarial: normalized MSE = 3.46e-02\nnew best adversarial: normalized MSE = 3.46e-02\nnew best adversarial: normalized MSE = 3.46e-02\nnew best adversarial: normalized MSE = 3.46e-02\nnew best adversarial: normalized MSE = 3.46e-02\nnew best adversarial: normalized MSE = 3.46e-02\nnew best adversarial: normalized MSE = 3.46e-02\nnew best adversarial: normalized MSE = 3.46e-02\nnew best adversarial: normalized MSE = 3.46e-02\nnew best adversarial: normalized MSE = 3.46e-02\nnew best adversarial: normalized MSE = 3.46e-02\nnew best adversarial: normalized MSE = 3.46e-02\nnew best adversarial: normalized MSE = 3.46e-02\nnew best adversarial: normalized MSE = 3.46e-02\nnew best adversarial: normalized MSE = 3.46e-02\nnew best adversarial: normalized MSE = 3.46e-02\nnew best adversarial: normalized MSE = 3.46e-02\nnew best adversarial: normalized MSE = 3.46e-02\nnew best adversarial: normalized MSE = 3.46e-02\nnew best adversarial: normalized MSE = 3.46e-02\nnew best adversarial: normalized MSE = 3.46e-02\nnew best adversarial: normalized MSE = 3.46e-02\nnew best adversarial: normalized MSE = 3.46e-02\nnew best adversarial: normalized MSE = 3.46e-02\nnew best adversarial: normalized MSE = 3.46e-02\nnew best adversarial: normalized MSE = 3.46e-02\nnew best adversarial: normalized MSE = 3.46e-02\nnew best adversarial: normalized MSE = 3.46e-02\n",
      "new best adversarial: normalized MSE = 3.46e-02\nnew best adversarial: normalized MSE = 3.46e-02\nnew best adversarial: normalized MSE = 3.46e-02\nnew best adversarial: normalized MSE = 3.46e-02\nnew best adversarial: normalized MSE = 3.46e-02\nnew best adversarial: normalized MSE = 3.46e-02\nnew best adversarial: normalized MSE = 3.46e-02\nnew best adversarial: normalized MSE = 3.46e-02\nnew best adversarial: normalized MSE = 3.46e-02\nnew best adversarial: normalized MSE = 3.46e-02\nnew best adversarial: normalized MSE = 3.46e-02\nnew best adversarial: normalized MSE = 3.46e-02\nnew best adversarial: normalized MSE = 3.46e-02\nnew best adversarial: normalized MSE = 3.46e-02\nnew best adversarial: normalized MSE = 3.46e-02\nnew best adversarial: normalized MSE = 3.46e-02\nnew best adversarial: normalized MSE = 3.46e-02\nnew best adversarial: normalized MSE = 3.46e-02\nnew best adversarial: normalized MSE = 3.46e-02\nnew best adversarial: normalized MSE = 3.46e-02\nnew best adversarial: normalized MSE = 3.46e-02\nnew best adversarial: normalized MSE = 3.46e-02\nnew best adversarial: normalized MSE = 3.46e-02\nnew best adversarial: normalized MSE = 3.46e-02\nnew best adversarial: normalized MSE = 3.46e-02\nnew best adversarial: normalized MSE = 3.46e-02\nnew best adversarial: normalized MSE = 3.46e-02\nnew best adversarial: normalized MSE = 3.46e-02\nnew best adversarial: normalized MSE = 3.46e-02\nnew best adversarial: normalized MSE = 3.46e-02\nnew best adversarial: normalized MSE = 3.46e-02\nnew best adversarial: normalized MSE = 3.46e-02\nnew best adversarial: normalized MSE = 3.46e-02\nnew best adversarial: normalized MSE = 3.46e-02\nnew best adversarial: normalized MSE = 3.46e-02\nnew best adversarial: normalized MSE = 3.46e-02\nnew best adversarial: normalized MSE = 3.46e-02\nnew best adversarial: normalized MSE = 3.46e-02\nnew best adversarial: normalized MSE = 3.46e-02\nnew best adversarial: normalized MSE = 3.46e-02\n",
      "new best adversarial: normalized MSE = 3.46e-02\nnew best adversarial: normalized MSE = 3.46e-02\nnew best adversarial: normalized MSE = 3.46e-02\nnew best adversarial: normalized MSE = 3.46e-02\nnew best adversarial: normalized MSE = 3.46e-02\nnew best adversarial: normalized MSE = 3.46e-02\nnew best adversarial: normalized MSE = 3.46e-02\nnew best adversarial: normalized MSE = 3.46e-02\nnew best adversarial: normalized MSE = 3.46e-02\nnew best adversarial: normalized MSE = 3.46e-02\nnew best adversarial: normalized MSE = 3.46e-02\nnew best adversarial: normalized MSE = 3.46e-02\nnew best adversarial: normalized MSE = 3.46e-02\nnew best adversarial: normalized MSE = 3.46e-02\nnew best adversarial: normalized MSE = 3.46e-02\nnew best adversarial: normalized MSE = 3.46e-02\nnew best adversarial: normalized MSE = 3.46e-02\nnew best adversarial: normalized MSE = 3.46e-02\nnew best adversarial: normalized MSE = 3.46e-02\nnew best adversarial: normalized MSE = 3.46e-02\nnew best adversarial: normalized MSE = 3.46e-02\nnew best adversarial: normalized MSE = 3.46e-02\nnew best adversarial: normalized MSE = 3.46e-02\nnew best adversarial: normalized MSE = 3.46e-02\nnew best adversarial: normalized MSE = 3.46e-02\nnew best adversarial: normalized MSE = 3.46e-02\nnew best adversarial: normalized MSE = 3.46e-02\nnew best adversarial: normalized MSE = 3.46e-02\nnew best adversarial: normalized MSE = 3.46e-02\nnew best adversarial: normalized MSE = 3.46e-02\nnew best adversarial: normalized MSE = 3.46e-02\nnew best adversarial: normalized MSE = 3.46e-02\nnew best adversarial: normalized MSE = 3.46e-02\nnew best adversarial: normalized MSE = 3.46e-02\nnew best adversarial: normalized MSE = 3.46e-02\nnew best adversarial: normalized MSE = 3.46e-02\nnew best adversarial: normalized MSE = 3.46e-02\nnew best adversarial: normalized MSE = 3.46e-02\nnew best adversarial: normalized MSE = 3.46e-02\n",
      "new best adversarial: normalized MSE = 3.46e-02\nnew best adversarial: normalized MSE = 3.46e-02\nnew best adversarial: normalized MSE = 3.46e-02\nnew best adversarial: normalized MSE = 3.46e-02\nnew best adversarial: normalized MSE = 3.46e-02\nnew best adversarial: normalized MSE = 3.46e-02\nnew best adversarial: normalized MSE = 3.46e-02\nnew best adversarial: normalized MSE = 3.46e-02\nnew best adversarial: normalized MSE = 3.46e-02\nnew best adversarial: normalized MSE = 3.46e-02\nnew best adversarial: normalized MSE = 3.46e-02\nnew best adversarial: normalized MSE = 3.46e-02\nnew best adversarial: normalized MSE = 3.46e-02\nnew best adversarial: normalized MSE = 3.46e-02\nnew best adversarial: normalized MSE = 3.46e-02\nnew best adversarial: normalized MSE = 3.46e-02\nnew best adversarial: normalized MSE = 3.46e-02\nnew best adversarial: normalized MSE = 3.46e-02\nnew best adversarial: normalized MSE = 3.46e-02\nnew best adversarial: normalized MSE = 3.46e-02\nnew best adversarial: normalized MSE = 3.46e-02\nnew best adversarial: normalized MSE = 3.46e-02\nnew best adversarial: normalized MSE = 3.46e-02\nnew best adversarial: normalized MSE = 3.46e-02\nnew best adversarial: normalized MSE = 3.46e-02\nnew best adversarial: normalized MSE = 3.46e-02\nnew best adversarial: normalized MSE = 3.46e-02\nnew best adversarial: normalized MSE = 3.46e-02\nnew best adversarial: normalized MSE = 3.46e-02\nnew best adversarial: normalized MSE = 3.46e-02\nnew best adversarial: normalized MSE = 3.46e-02\nnew best adversarial: normalized MSE = 3.46e-02\nnew best adversarial: normalized MSE = 3.46e-02\nnew best adversarial: normalized MSE = 3.46e-02\nnew best adversarial: normalized MSE = 3.46e-02\nnew best adversarial: normalized MSE = 3.46e-02\nnew best adversarial: normalized MSE = 3.46e-02\n",
      "new best adversarial: normalized MSE = 3.46e-02\nnew best adversarial: normalized MSE = 3.46e-02\nnew best adversarial: normalized MSE = 3.46e-02\nnew best adversarial: normalized MSE = 3.46e-02\nnew best adversarial: normalized MSE = 3.46e-02\nnew best adversarial: normalized MSE = 3.46e-02\nnew best adversarial: normalized MSE = 3.46e-02\nnew best adversarial: normalized MSE = 3.46e-02\nnew best adversarial: normalized MSE = 3.46e-02\nnew best adversarial: normalized MSE = 3.46e-02\nnew best adversarial: normalized MSE = 3.46e-02\nnew best adversarial: normalized MSE = 3.46e-02\nnew best adversarial: normalized MSE = 3.46e-02\nnew best adversarial: normalized MSE = 3.46e-02\nnew best adversarial: normalized MSE = 3.46e-02\nnew best adversarial: normalized MSE = 3.46e-02\nnew best adversarial: normalized MSE = 3.46e-02\nnew best adversarial: normalized MSE = 3.46e-02\nnew best adversarial: normalized MSE = 3.46e-02\nnew best adversarial: normalized MSE = 3.46e-02\nnew best adversarial: normalized MSE = 3.46e-02\nnew best adversarial: normalized MSE = 3.46e-02\nnew best adversarial: normalized MSE = 3.46e-02\nnew best adversarial: normalized MSE = 3.46e-02\nnew best adversarial: normalized MSE = 3.46e-02\nnew best adversarial: normalized MSE = 3.46e-02\nnew best adversarial: normalized MSE = 3.46e-02\nnew best adversarial: normalized MSE = 3.46e-02\nnew best adversarial: normalized MSE = 3.46e-02\nnew best adversarial: normalized MSE = 3.46e-02\nnew best adversarial: normalized MSE = 3.46e-02\nnew best adversarial: normalized MSE = 3.46e-02\nnew best adversarial: normalized MSE = 3.46e-02\nnew best adversarial: normalized MSE = 3.46e-02\nnew best adversarial: normalized MSE = 3.46e-02\n",
      "new best adversarial: normalized MSE = 3.46e-02\nnew best adversarial: normalized MSE = 3.46e-02\nnew best adversarial: normalized MSE = 3.46e-02\nnew best adversarial: normalized MSE = 3.46e-02\nnew best adversarial: normalized MSE = 3.46e-02\nnew best adversarial: normalized MSE = 3.46e-02\nnew best adversarial: normalized MSE = 3.46e-02\nnew best adversarial: normalized MSE = 3.46e-02\nnew best adversarial: normalized MSE = 3.46e-02\nnew best adversarial: normalized MSE = 3.46e-02\nnew best adversarial: normalized MSE = 3.46e-02\nnew best adversarial: normalized MSE = 3.46e-02\nnew best adversarial: normalized MSE = 3.46e-02\nnew best adversarial: normalized MSE = 3.46e-02\nnew best adversarial: normalized MSE = 3.46e-02\nnew best adversarial: normalized MSE = 3.46e-02\nnew best adversarial: normalized MSE = 3.46e-02\nnew best adversarial: normalized MSE = 3.46e-02\nnew best adversarial: normalized MSE = 3.46e-02\nnew best adversarial: normalized MSE = 3.46e-02\nnew best adversarial: normalized MSE = 3.46e-02\nnew best adversarial: normalized MSE = 3.46e-02\nnew best adversarial: normalized MSE = 3.46e-02\nnew best adversarial: normalized MSE = 3.46e-02\nnew best adversarial: normalized MSE = 3.46e-02\nnew best adversarial: normalized MSE = 3.46e-02\nnew best adversarial: normalized MSE = 3.46e-02\nnew best adversarial: normalized MSE = 3.46e-02\nnew best adversarial: normalized MSE = 3.45e-02\nnew best adversarial: normalized MSE = 3.45e-02\nnew best adversarial: normalized MSE = 3.45e-02\nnew best adversarial: normalized MSE = 3.45e-02\nnew best adversarial: normalized MSE = 3.45e-02\nnew best adversarial: normalized MSE = 3.45e-02\nnew best adversarial: normalized MSE = 3.45e-02\nnew best adversarial: normalized MSE = 3.45e-02\nnew best adversarial: normalized MSE = 3.45e-02\n",
      "new best adversarial: normalized MSE = 3.45e-02\nnew best adversarial: normalized MSE = 3.45e-02\nnew best adversarial: normalized MSE = 3.45e-02\nnew best adversarial: normalized MSE = 3.45e-02\nnew best adversarial: normalized MSE = 3.45e-02\nnew best adversarial: normalized MSE = 3.45e-02\nnew best adversarial: normalized MSE = 3.45e-02\nnew best adversarial: normalized MSE = 3.45e-02\nnew best adversarial: normalized MSE = 3.45e-02\nnew best adversarial: normalized MSE = 3.45e-02\nnew best adversarial: normalized MSE = 3.45e-02\nnew best adversarial: normalized MSE = 3.45e-02\nnew best adversarial: normalized MSE = 3.45e-02\nnew best adversarial: normalized MSE = 3.45e-02\nnew best adversarial: normalized MSE = 3.45e-02\nnew best adversarial: normalized MSE = 3.45e-02\nnew best adversarial: normalized MSE = 3.45e-02\nnew best adversarial: normalized MSE = 3.45e-02\nnew best adversarial: normalized MSE = 3.45e-02\nnew best adversarial: normalized MSE = 3.45e-02\nnew best adversarial: normalized MSE = 3.45e-02\nnew best adversarial: normalized MSE = 3.45e-02\nnew best adversarial: normalized MSE = 3.45e-02\nnew best adversarial: normalized MSE = 3.45e-02\nnew best adversarial: normalized MSE = 3.45e-02\nnew best adversarial: normalized MSE = 3.45e-02\nnew best adversarial: normalized MSE = 3.45e-02\nnew best adversarial: normalized MSE = 3.45e-02\nnew best adversarial: normalized MSE = 3.45e-02\nnew best adversarial: normalized MSE = 3.45e-02\nnew best adversarial: normalized MSE = 3.45e-02\nnew best adversarial: normalized MSE = 3.45e-02\nnew best adversarial: normalized MSE = 3.45e-02\nnew best adversarial: normalized MSE = 3.45e-02\nnew best adversarial: normalized MSE = 3.45e-02\nnew best adversarial: normalized MSE = 3.45e-02\nnew best adversarial: normalized MSE = 3.45e-02\nnew best adversarial: normalized MSE = 3.45e-02\nnew best adversarial: normalized MSE = 3.45e-02\n",
      "new best adversarial: normalized MSE = 3.45e-02\nnew best adversarial: normalized MSE = 3.45e-02\nnew best adversarial: normalized MSE = 3.45e-02\nnew best adversarial: normalized MSE = 3.45e-02\nnew best adversarial: normalized MSE = 3.45e-02\nnew best adversarial: normalized MSE = 3.45e-02\nnew best adversarial: normalized MSE = 3.45e-02\nnew best adversarial: normalized MSE = 3.45e-02\nnew best adversarial: normalized MSE = 3.45e-02\nnew best adversarial: normalized MSE = 3.45e-02\nnew best adversarial: normalized MSE = 3.45e-02\nnew best adversarial: normalized MSE = 3.45e-02\nnew best adversarial: normalized MSE = 3.45e-02\nnew best adversarial: normalized MSE = 3.45e-02\nnew best adversarial: normalized MSE = 3.45e-02\nnew best adversarial: normalized MSE = 3.45e-02\nnew best adversarial: normalized MSE = 3.45e-02\nnew best adversarial: normalized MSE = 3.45e-02\nnew best adversarial: normalized MSE = 3.45e-02\nnew best adversarial: normalized MSE = 3.45e-02\nnew best adversarial: normalized MSE = 3.45e-02\nnew best adversarial: normalized MSE = 3.45e-02\nnew best adversarial: normalized MSE = 3.45e-02\nnew best adversarial: normalized MSE = 3.45e-02\nnew best adversarial: normalized MSE = 3.45e-02\nnew best adversarial: normalized MSE = 3.45e-02\nnew best adversarial: normalized MSE = 3.45e-02\nnew best adversarial: normalized MSE = 3.45e-02\nnew best adversarial: normalized MSE = 3.45e-02\nnew best adversarial: normalized MSE = 3.45e-02\nnew best adversarial: normalized MSE = 3.45e-02\nnew best adversarial: normalized MSE = 3.45e-02\nnew best adversarial: normalized MSE = 3.45e-02\nnew best adversarial: normalized MSE = 3.45e-02\nnew best adversarial: normalized MSE = 3.45e-02\nnew best adversarial: normalized MSE = 3.45e-02\nnew best adversarial: normalized MSE = 3.45e-02\nnew best adversarial: normalized MSE = 3.45e-02\nnew best adversarial: normalized MSE = 3.45e-02\n",
      "new best adversarial: normalized MSE = 3.45e-02\nnew best adversarial: normalized MSE = 3.45e-02\nnew best adversarial: normalized MSE = 3.45e-02\nnew best adversarial: normalized MSE = 3.45e-02\nnew best adversarial: normalized MSE = 3.45e-02\nnew best adversarial: normalized MSE = 3.45e-02\nnew best adversarial: normalized MSE = 3.45e-02\nnew best adversarial: normalized MSE = 3.45e-02\nnew best adversarial: normalized MSE = 3.45e-02\nnew best adversarial: normalized MSE = 3.45e-02\nnew best adversarial: normalized MSE = 3.45e-02\nnew best adversarial: normalized MSE = 3.45e-02\nnew best adversarial: normalized MSE = 3.45e-02\nnew best adversarial: normalized MSE = 3.45e-02\nnew best adversarial: normalized MSE = 3.45e-02\nnew best adversarial: normalized MSE = 3.45e-02\nnew best adversarial: normalized MSE = 3.45e-02\nnew best adversarial: normalized MSE = 3.45e-02\nnew best adversarial: normalized MSE = 3.45e-02\nnew best adversarial: normalized MSE = 3.45e-02\nnew best adversarial: normalized MSE = 3.45e-02\nnew best adversarial: normalized MSE = 3.45e-02\nnew best adversarial: normalized MSE = 3.45e-02\nnew best adversarial: normalized MSE = 3.45e-02\nnew best adversarial: normalized MSE = 3.45e-02\nnew best adversarial: normalized MSE = 3.45e-02\nnew best adversarial: normalized MSE = 3.45e-02\nnew best adversarial: normalized MSE = 3.45e-02\nnew best adversarial: normalized MSE = 3.45e-02\nnew best adversarial: normalized MSE = 3.45e-02\nnew best adversarial: normalized MSE = 3.45e-02\nnew best adversarial: normalized MSE = 3.45e-02\nnew best adversarial: normalized MSE = 3.45e-02\nnew best adversarial: normalized MSE = 3.45e-02\nnew best adversarial: normalized MSE = 3.45e-02\nnew best adversarial: normalized MSE = 3.45e-02\nnew best adversarial: normalized MSE = 3.45e-02\nnew best adversarial: normalized MSE = 3.45e-02\n",
      "new best adversarial: normalized MSE = 3.45e-02\nnew best adversarial: normalized MSE = 3.45e-02\nnew best adversarial: normalized MSE = 3.45e-02\nnew best adversarial: normalized MSE = 3.45e-02\nnew best adversarial: normalized MSE = 3.45e-02\nnew best adversarial: normalized MSE = 3.45e-02\nnew best adversarial: normalized MSE = 3.45e-02\nnew best adversarial: normalized MSE = 3.45e-02\nnew best adversarial: normalized MSE = 3.45e-02\nnew best adversarial: normalized MSE = 3.45e-02\nnew best adversarial: normalized MSE = 3.45e-02\nnew best adversarial: normalized MSE = 3.45e-02\nnew best adversarial: normalized MSE = 3.45e-02\nnew best adversarial: normalized MSE = 3.45e-02\nnew best adversarial: normalized MSE = 3.45e-02\nnew best adversarial: normalized MSE = 3.45e-02\nnew best adversarial: normalized MSE = 3.45e-02\nnew best adversarial: normalized MSE = 3.45e-02\nnew best adversarial: normalized MSE = 3.45e-02\nnew best adversarial: normalized MSE = 3.45e-02\nnew best adversarial: normalized MSE = 3.45e-02\nnew best adversarial: normalized MSE = 3.45e-02\nnew best adversarial: normalized MSE = 3.45e-02\nnew best adversarial: normalized MSE = 3.45e-02\nnew best adversarial: normalized MSE = 3.45e-02\nnew best adversarial: normalized MSE = 3.45e-02\nnew best adversarial: normalized MSE = 3.45e-02\nnew best adversarial: normalized MSE = 3.45e-02\nnew best adversarial: normalized MSE = 3.45e-02\nnew best adversarial: normalized MSE = 3.45e-02\nnew best adversarial: normalized MSE = 3.45e-02\nnew best adversarial: normalized MSE = 3.45e-02\nnew best adversarial: normalized MSE = 3.45e-02\nnew best adversarial: normalized MSE = 3.45e-02\nnew best adversarial: normalized MSE = 3.45e-02\nnew best adversarial: normalized MSE = 3.45e-02\nnew best adversarial: normalized MSE = 3.45e-02\nnew best adversarial: normalized MSE = 3.45e-02\nnew best adversarial: normalized MSE = 3.45e-02\n",
      "new best adversarial: normalized MSE = 3.45e-02\nnew best adversarial: normalized MSE = 3.45e-02\nnew best adversarial: normalized MSE = 3.45e-02\nnew best adversarial: normalized MSE = 3.45e-02\nnew best adversarial: normalized MSE = 3.45e-02\nnew best adversarial: normalized MSE = 3.45e-02\nnew best adversarial: normalized MSE = 3.45e-02\nnew best adversarial: normalized MSE = 3.45e-02\nnew best adversarial: normalized MSE = 3.45e-02\nnew best adversarial: normalized MSE = 3.45e-02\nnew best adversarial: normalized MSE = 3.45e-02\nnew best adversarial: normalized MSE = 3.45e-02\nnew best adversarial: normalized MSE = 3.45e-02\nnew best adversarial: normalized MSE = 3.45e-02\nnew best adversarial: normalized MSE = 3.45e-02\nnew best adversarial: normalized MSE = 3.45e-02\nnew best adversarial: normalized MSE = 3.45e-02\nnew best adversarial: normalized MSE = 3.45e-02\nnew best adversarial: normalized MSE = 3.45e-02\nnew best adversarial: normalized MSE = 3.45e-02\nnew best adversarial: normalized MSE = 3.45e-02\nnew best adversarial: normalized MSE = 3.45e-02\nnew best adversarial: normalized MSE = 3.45e-02\nnew best adversarial: normalized MSE = 3.45e-02\nnew best adversarial: normalized MSE = 3.45e-02\nnew best adversarial: normalized MSE = 3.45e-02\nnew best adversarial: normalized MSE = 3.45e-02\nnew best adversarial: normalized MSE = 3.45e-02\nnew best adversarial: normalized MSE = 3.45e-02\nnew best adversarial: normalized MSE = 3.45e-02\nnew best adversarial: normalized MSE = 3.45e-02\nnew best adversarial: normalized MSE = 3.45e-02\nnew best adversarial: normalized MSE = 3.45e-02\nnew best adversarial: normalized MSE = 3.45e-02\nnew best adversarial: normalized MSE = 3.45e-02\n",
      "new best adversarial: normalized MSE = 3.45e-02\nnew best adversarial: normalized MSE = 3.45e-02\nnew best adversarial: normalized MSE = 3.45e-02\nnew best adversarial: normalized MSE = 3.45e-02\nnew best adversarial: normalized MSE = 3.45e-02\nnew best adversarial: normalized MSE = 3.45e-02\nnew best adversarial: normalized MSE = 3.45e-02\nnew best adversarial: normalized MSE = 3.45e-02\nnew best adversarial: normalized MSE = 3.45e-02\nnew best adversarial: normalized MSE = 3.45e-02\nnew best adversarial: normalized MSE = 3.45e-02\nnew best adversarial: normalized MSE = 3.45e-02\nnew best adversarial: normalized MSE = 3.45e-02\nnew best adversarial: normalized MSE = 3.45e-02\nnew best adversarial: normalized MSE = 3.45e-02\nnew best adversarial: normalized MSE = 3.45e-02\nnew best adversarial: normalized MSE = 3.45e-02\nnew best adversarial: normalized MSE = 3.45e-02\nnew best adversarial: normalized MSE = 3.45e-02\nnew best adversarial: normalized MSE = 3.45e-02\nnew best adversarial: normalized MSE = 3.45e-02\nnew best adversarial: normalized MSE = 3.45e-02\nnew best adversarial: normalized MSE = 3.45e-02\nnew best adversarial: normalized MSE = 3.45e-02\nnew best adversarial: normalized MSE = 3.45e-02\nnew best adversarial: normalized MSE = 3.45e-02\nnew best adversarial: normalized MSE = 3.45e-02\nnew best adversarial: normalized MSE = 3.45e-02\nnew best adversarial: normalized MSE = 3.45e-02\nnew best adversarial: normalized MSE = 3.45e-02\nnew best adversarial: normalized MSE = 3.45e-02\nnew best adversarial: normalized MSE = 3.45e-02\nnew best adversarial: normalized MSE = 3.45e-02\nnew best adversarial: normalized MSE = 3.45e-02\nnew best adversarial: normalized MSE = 3.45e-02\nnew best adversarial: normalized MSE = 3.45e-02\nnew best adversarial: normalized MSE = 3.45e-02\n",
      "new best adversarial: normalized MSE = 3.45e-02\nnew best adversarial: normalized MSE = 3.45e-02\nnew best adversarial: normalized MSE = 3.45e-02\nnew best adversarial: normalized MSE = 3.45e-02\nnew best adversarial: normalized MSE = 3.45e-02\nnew best adversarial: normalized MSE = 3.45e-02\nnew best adversarial: normalized MSE = 3.45e-02\nnew best adversarial: normalized MSE = 3.45e-02\nnew best adversarial: normalized MSE = 3.45e-02\nnew best adversarial: normalized MSE = 3.45e-02\nnew best adversarial: normalized MSE = 3.45e-02\nnew best adversarial: normalized MSE = 3.45e-02\nnew best adversarial: normalized MSE = 3.45e-02\nnew best adversarial: normalized MSE = 3.45e-02\nnew best adversarial: normalized MSE = 3.45e-02\nnew best adversarial: normalized MSE = 3.45e-02\nnew best adversarial: normalized MSE = 3.45e-02\nnew best adversarial: normalized MSE = 3.45e-02\nnew best adversarial: normalized MSE = 3.45e-02\nnew best adversarial: normalized MSE = 3.45e-02\nnew best adversarial: normalized MSE = 3.45e-02\nnew best adversarial: normalized MSE = 3.45e-02\nnew best adversarial: normalized MSE = 3.45e-02\nnew best adversarial: normalized MSE = 3.45e-02\nnew best adversarial: normalized MSE = 3.45e-02\nnew best adversarial: normalized MSE = 3.45e-02\nnew best adversarial: normalized MSE = 3.45e-02\nnew best adversarial: normalized MSE = 3.45e-02\nnew best adversarial: normalized MSE = 3.45e-02\nnew best adversarial: normalized MSE = 3.45e-02\nnew best adversarial: normalized MSE = 3.45e-02\nnew best adversarial: normalized MSE = 3.45e-02\nnew best adversarial: normalized MSE = 3.45e-02\nnew best adversarial: normalized MSE = 3.45e-02\nnew best adversarial: normalized MSE = 3.45e-02\nnew best adversarial: normalized MSE = 3.45e-02\nnew best adversarial: normalized MSE = 3.45e-02\n",
      "new best adversarial: normalized MSE = 3.45e-02\nnew best adversarial: normalized MSE = 3.45e-02\nnew best adversarial: normalized MSE = 3.45e-02\nnew best adversarial: normalized MSE = 3.45e-02\nnew best adversarial: normalized MSE = 3.45e-02\nnew best adversarial: normalized MSE = 3.45e-02\nnew best adversarial: normalized MSE = 3.45e-02\nnew best adversarial: normalized MSE = 3.45e-02\nnew best adversarial: normalized MSE = 3.45e-02\nnew best adversarial: normalized MSE = 3.45e-02\nnew best adversarial: normalized MSE = 3.45e-02\nnew best adversarial: normalized MSE = 3.45e-02\nnew best adversarial: normalized MSE = 3.44e-02\nnew best adversarial: normalized MSE = 3.44e-02\nnew best adversarial: normalized MSE = 3.44e-02\nnew best adversarial: normalized MSE = 3.44e-02\nnew best adversarial: normalized MSE = 3.44e-02\nnew best adversarial: normalized MSE = 3.44e-02\nnew best adversarial: normalized MSE = 3.44e-02\nnew best adversarial: normalized MSE = 3.44e-02\nnew best adversarial: normalized MSE = 3.44e-02\nnew best adversarial: normalized MSE = 3.44e-02\nnew best adversarial: normalized MSE = 3.44e-02\nnew best adversarial: normalized MSE = 3.44e-02\nnew best adversarial: normalized MSE = 3.44e-02\nnew best adversarial: normalized MSE = 3.44e-02\nnew best adversarial: normalized MSE = 3.44e-02\nnew best adversarial: normalized MSE = 3.44e-02\nnew best adversarial: normalized MSE = 3.44e-02\nnew best adversarial: normalized MSE = 3.44e-02\nnew best adversarial: normalized MSE = 3.44e-02\nnew best adversarial: normalized MSE = 3.44e-02\nnew best adversarial: normalized MSE = 3.44e-02\nnew best adversarial: normalized MSE = 3.44e-02\nnew best adversarial: normalized MSE = 3.44e-02\nnew best adversarial: normalized MSE = 3.44e-02\nnew best adversarial: normalized MSE = 3.44e-02\nnew best adversarial: normalized MSE = 3.44e-02\nnew best adversarial: normalized MSE = 3.44e-02\n",
      "new best adversarial: normalized MSE = 3.44e-02\nnew best adversarial: normalized MSE = 3.44e-02\nnew best adversarial: normalized MSE = 3.44e-02\nnew best adversarial: normalized MSE = 3.44e-02\nnew best adversarial: normalized MSE = 3.44e-02\nnew best adversarial: normalized MSE = 3.44e-02\nnew best adversarial: normalized MSE = 3.44e-02\nnew best adversarial: normalized MSE = 3.44e-02\nnew best adversarial: normalized MSE = 3.44e-02\nnew best adversarial: normalized MSE = 3.44e-02\nnew best adversarial: normalized MSE = 3.44e-02\nnew best adversarial: normalized MSE = 3.44e-02\nnew best adversarial: normalized MSE = 3.44e-02\nnew best adversarial: normalized MSE = 3.44e-02\nnew best adversarial: normalized MSE = 3.44e-02\nnew best adversarial: normalized MSE = 3.44e-02\nnew best adversarial: normalized MSE = 3.44e-02\nnew best adversarial: normalized MSE = 3.44e-02\nnew best adversarial: normalized MSE = 3.44e-02\nnew best adversarial: normalized MSE = 3.44e-02\nnew best adversarial: normalized MSE = 3.44e-02\nnew best adversarial: normalized MSE = 3.44e-02\nnew best adversarial: normalized MSE = 3.44e-02\nnew best adversarial: normalized MSE = 3.44e-02\nnew best adversarial: normalized MSE = 3.44e-02\nnew best adversarial: normalized MSE = 3.44e-02\nnew best adversarial: normalized MSE = 3.44e-02\nnew best adversarial: normalized MSE = 3.44e-02\nnew best adversarial: normalized MSE = 3.44e-02\nnew best adversarial: normalized MSE = 3.44e-02\nnew best adversarial: normalized MSE = 3.44e-02\nnew best adversarial: normalized MSE = 3.44e-02\nnew best adversarial: normalized MSE = 3.44e-02\nnew best adversarial: normalized MSE = 3.44e-02\nnew best adversarial: normalized MSE = 3.44e-02\nnew best adversarial: normalized MSE = 3.44e-02\nnew best adversarial: normalized MSE = 3.44e-02\nnew best adversarial: normalized MSE = 3.44e-02\nnew best adversarial: normalized MSE = 3.44e-02\nnew best adversarial: normalized MSE = 3.44e-02\nnew best adversarial: normalized MSE = 3.44e-02\n",
      "new best adversarial: normalized MSE = 3.44e-02\nnew best adversarial: normalized MSE = 3.44e-02\nnew best adversarial: normalized MSE = 3.44e-02\nnew best adversarial: normalized MSE = 3.44e-02\nnew best adversarial: normalized MSE = 3.44e-02\nnew best adversarial: normalized MSE = 3.44e-02\nnew best adversarial: normalized MSE = 3.44e-02\nnew best adversarial: normalized MSE = 3.44e-02\nnew best adversarial: normalized MSE = 3.44e-02\nnew best adversarial: normalized MSE = 3.44e-02\nnew best adversarial: normalized MSE = 3.44e-02\nnew best adversarial: normalized MSE = 3.44e-02\nnew best adversarial: normalized MSE = 3.44e-02\nnew best adversarial: normalized MSE = 3.44e-02\nnew best adversarial: normalized MSE = 3.44e-02\nnew best adversarial: normalized MSE = 3.44e-02\nnew best adversarial: normalized MSE = 3.44e-02\nnew best adversarial: normalized MSE = 3.44e-02\nnew best adversarial: normalized MSE = 3.44e-02\nnew best adversarial: normalized MSE = 3.44e-02\nnew best adversarial: normalized MSE = 3.44e-02\nnew best adversarial: normalized MSE = 3.44e-02\nnew best adversarial: normalized MSE = 3.44e-02\nnew best adversarial: normalized MSE = 3.44e-02\nnew best adversarial: normalized MSE = 3.44e-02\n"
     ],
     "output_type": "stream"
    }
   ],
   "source": [
    "adversary = metric(image, label, unpack=False, binary_search_steps=10, max_iterations=2000)\n"
   ],
   "metadata": {
    "collapsed": false,
    "pycharm": {
     "name": "#%%\n",
     "is_executing": false
    }
   }
  },
  {
   "cell_type": "code",
   "execution_count": 33,
   "outputs": [
    {
     "name": "stdout",
     "text": [
      "normalized Linf distance = 9.17e-01\n"
     ],
     "output_type": "stream"
    }
   ],
   "source": [
    "print(adversary.distance)"
   ],
   "metadata": {
    "collapsed": false,
    "pycharm": {
     "name": "#%%\n",
     "is_executing": false
    }
   }
  },
  {
   "cell_type": "code",
   "execution_count": 41,
   "outputs": [
    {
     "name": "stdout",
     "text": [
      "7.65e-04\n"
     ],
     "output_type": "stream"
    }
   ],
   "source": [
    "from perceptron.utils.tools import bound\n",
    "ret = bound(image, model=fmodel, sd=0.1, num_class=10, num_iter=100)\n",
    "print(\"{:.2e}\".format(ret/784.))"
   ],
   "metadata": {
    "collapsed": false,
    "pycharm": {
     "name": "#%%\n",
     "is_executing": false
    }
   }
  },
  {
   "cell_type": "code",
   "execution_count": null,
   "outputs": [],
   "source": [],
   "metadata": {
    "collapsed": false,
    "pycharm": {
     "name": "#%%\n"
    }
   }
  }
 ],
 "metadata": {
  "language_info": {
   "codemirror_mode": {
    "name": "ipython",
    "version": 2
   },
   "file_extension": ".py",
   "mimetype": "text/x-python",
   "name": "python",
   "nbconvert_exporter": "python",
   "pygments_lexer": "ipython2",
   "version": "2.7.6"
  },
  "kernelspec": {
   "name": "pycharm-cb9c8da",
   "language": "python",
   "display_name": "PyCharm (dr)"
  },
  "pycharm": {
   "stem_cell": {
    "cell_type": "raw",
    "source": [],
    "metadata": {
     "collapsed": false
    }
   }
  }
 },
 "nbformat": 4,
 "nbformat_minor": 0
}