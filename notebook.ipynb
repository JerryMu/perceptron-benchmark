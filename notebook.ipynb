{
 "cells": [
  {
   "cell_type": "code",
   "execution_count": 1,
   "metadata": {
    "collapsed": true,
    "pycharm": {
     "is_executing": false
    }
   },
   "outputs": [],
   "source": [
    "%load_ext autoreload\n",
    "%autoreload 2\n",
    "from __future__ import absolute_import\n",
    "\n",
    "import torch\n",
    "import numpy as np\n",
    "from perceptron.models.classification.pytorch import PyTorchModel\n",
    "from perceptron.benchmarks.interval_analysis import NaiveIntervalMetric\n",
    "from perceptron.benchmarks.interval_analysis import SymbolicIntervalMetric\n",
    "from perceptron.utils.criteria.classification import Misclassification\n",
    "from perceptron.utils.image import load_mnist_image\n",
    "from perceptron.utils.tools import bcolors\n",
    "from perceptron.zoo.mnist.model import mnist_model"
   ]
  },
  {
   "cell_type": "code",
   "execution_count": 42,
   "outputs": [],
   "source": [
    "param = {\n",
    "  # epsilon for testing\n",
    "  \"epsilon\" : 0.3,\n",
    "  # epsilon for training\n",
    "  \"train_epsilon\" : 0.3,\n",
    "  \"model_method\" : \"clean\",\n",
    "  # wheter need to check for optimal verified bound\n",
    "  \"optimal_bound\" : True,\n",
    "  # whether to parallelize on multiple gpus for testing\n",
    "  \"parallel\" : True,\n",
    "  # size of the model\n",
    "  \"model_size\" : \"small\",\n",
    "  # dataset for testing\n",
    "  \"dataset\" : \"mnist\",\n",
    "  # number of classes of testing dataset\n",
    "  \"num_classes\" : 10,\n",
    "  # bounds for testing dataset\n",
    "  \"bounds\" : (0,1),\n",
    "  # data format\n",
    "  \"data_format\" : \"channels_first\",\n",
    "  # mnist example image\n",
    "  \"fname\" : \"mnist0.png\",\n",
    "  # shape of images\n",
    "  \"shape\" : (28,28)\n",
    "}\n",
    "\n",
    "image = load_mnist_image(shape=(28, 28), data_format='channels_first', fname='mnist0.png')\n",
    "\n",
    "epsilon = param[\"epsilon\"]"
   ],
   "metadata": {
    "collapsed": false,
    "pycharm": {
     "name": "#%%\n",
     "is_executing": false
    }
   }
  },
  {
   "cell_type": "code",
   "execution_count": 43,
   "outputs": [
    {
     "name": "stdout",
     "text": [
      "==== /tmp/mnist_small_clean.pth\nLoad model from mnist_small_clean.pth\n"
     ],
     "output_type": "stream"
    }
   ],
   "source": [
    "if param[\"dataset\"] == \"mnist\":\n",
    "\n",
    "  net = mnist_model(model_size=param[\"model_size\"],\n",
    "                    method=param[\"model_method\"],\n",
    "                    train_epsilon=param[\"train_epsilon\"]).eval()\n",
    "\n",
    "  param[\"num_classes\"] = 10\n",
    "\n",
    "if torch.cuda.is_available():\n",
    "    net = net.cuda()\n",
    "\n",
    "fmodel = PyTorchModel(\n",
    "            net, bounds=param[\"bounds\"], \n",
    "            num_classes=param[\"num_classes\"]\n",
    "          )\n",
    "label = np.argmax(fmodel.predictions(image))"
   ],
   "metadata": {
    "collapsed": false,
    "pycharm": {
     "name": "#%%\n",
     "is_executing": false
    }
   }
  },
  {
   "cell_type": "code",
   "execution_count": 44,
   "outputs": [],
   "source": [
    "from perceptron.benchmarks.carlini_wagner import CarliniWagnerLinfMetric\n",
    "from perceptron.utils.criteria.classification import Misclassification\n",
    "from perceptron.utils.distances import Linf\n",
    "from perceptron.benchmarks.carlini_wagner import CarliniWagnerL2Metric\n",
    "\n",
    "from perceptron.utils.distances import MSE\n",
    "metric = CarliniWagnerL2Metric(fmodel, distance=MSE, criterion=Misclassification())"
   ],
   "metadata": {
    "collapsed": false,
    "pycharm": {
     "name": "#%%\n",
     "is_executing": false
    }
   }
  },
  {
   "cell_type": "code",
   "execution_count": 45,
   "outputs": [
    {
     "name": "stderr",
     "text": [
      "\r  0%|          | 0/10 [00:00<?, ?it/s]",
      "\r 10%|█         | 1/10 [00:01<00:12,  1.40s/it]",
      "\r 20%|██        | 2/10 [00:08<00:24,  3.07s/it]",
      "\r 30%|███       | 3/10 [00:15<00:30,  4.30s/it]",
      "\r 40%|████      | 4/10 [00:22<00:30,  5.09s/it]",
      "\r 50%|█████     | 5/10 [00:29<00:27,  5.60s/it]",
      "\r 60%|██████    | 6/10 [00:36<00:24,  6.02s/it]",
      "\r 70%|███████   | 7/10 [00:41<00:17,  5.80s/it]",
      "\r 80%|████████  | 8/10 [00:48<00:12,  6.14s/it]",
      "\r 90%|█████████ | 9/10 [00:55<00:06,  6.38s/it]",
      "\r100%|██████████| 10/10 [01:01<00:00,  6.35s/it]",
      "\n"
     ],
     "output_type": "stream"
    },
    {
     "name": "stdout",
     "text": [
      "new best adversarial: normalized MSE = 5.68e-03\nnew best adversarial: normalized MSE = 5.68e-03\nnew best adversarial: normalized MSE = 5.66e-03\nnew best adversarial: normalized MSE = 5.63e-03\nnew best adversarial: normalized MSE = 5.59e-03\nnew best adversarial: normalized MSE = 5.48e-03\nnew best adversarial: normalized MSE = 5.48e-03\nnew best adversarial: normalized MSE = 5.46e-03\nnew best adversarial: normalized MSE = 5.44e-03\nnew best adversarial: normalized MSE = 5.42e-03\nnew best adversarial: normalized MSE = 5.36e-03\nnew best adversarial: normalized MSE = 5.36e-03\nnew best adversarial: normalized MSE = 5.35e-03\nnew best adversarial: normalized MSE = 5.34e-03\nnew best adversarial: normalized MSE = 5.31e-03\nnew best adversarial: normalized MSE = 5.27e-03\nnew best adversarial: normalized MSE = 5.26e-03\nnew best adversarial: normalized MSE = 5.25e-03\nnew best adversarial: normalized MSE = 5.21e-03\nnew best adversarial: normalized MSE = 5.20e-03\nnew best adversarial: normalized MSE = 5.19e-03\nnew best adversarial: normalized MSE = 5.18e-03\nnew best adversarial: normalized MSE = 5.16e-03\nnew best adversarial: normalized MSE = 5.16e-03\nnew best adversarial: normalized MSE = 5.15e-03\nnew best adversarial: normalized MSE = 5.14e-03\n",
      "new best adversarial: normalized MSE = 5.11e-03\nnew best adversarial: normalized MSE = 5.11e-03\nnew best adversarial: normalized MSE = 5.10e-03\nnew best adversarial: normalized MSE = 5.07e-03\nnew best adversarial: normalized MSE = 5.07e-03\nnew best adversarial: normalized MSE = 5.06e-03\nnew best adversarial: normalized MSE = 5.05e-03\nnew best adversarial: normalized MSE = 5.04e-03\nnew best adversarial: normalized MSE = 5.03e-03\nnew best adversarial: normalized MSE = 5.01e-03\nnew best adversarial: normalized MSE = 5.00e-03\nnew best adversarial: normalized MSE = 4.99e-03\nnew best adversarial: normalized MSE = 4.98e-03\nnew best adversarial: normalized MSE = 4.97e-03\nnew best adversarial: normalized MSE = 4.96e-03\nnew best adversarial: normalized MSE = 4.95e-03\nnew best adversarial: normalized MSE = 4.95e-03\nnew best adversarial: normalized MSE = 4.94e-03\nnew best adversarial: normalized MSE = 4.93e-03\nnew best adversarial: normalized MSE = 4.93e-03\nnew best adversarial: normalized MSE = 4.92e-03\nnew best adversarial: normalized MSE = 4.91e-03\nnew best adversarial: normalized MSE = 4.91e-03\nnew best adversarial: normalized MSE = 4.90e-03\nnew best adversarial: normalized MSE = 4.88e-03\n",
      "new best adversarial: normalized MSE = 4.87e-03\nnew best adversarial: normalized MSE = 4.87e-03\nnew best adversarial: normalized MSE = 4.86e-03\nnew best adversarial: normalized MSE = 4.86e-03\nnew best adversarial: normalized MSE = 4.84e-03\nnew best adversarial: normalized MSE = 4.84e-03\nnew best adversarial: normalized MSE = 4.84e-03\nnew best adversarial: normalized MSE = 4.83e-03\nnew best adversarial: normalized MSE = 4.82e-03\nnew best adversarial: normalized MSE = 4.82e-03\nnew best adversarial: normalized MSE = 4.80e-03\nnew best adversarial: normalized MSE = 4.80e-03\nnew best adversarial: normalized MSE = 4.78e-03\nnew best adversarial: normalized MSE = 4.78e-03\nnew best adversarial: normalized MSE = 4.77e-03\nnew best adversarial: normalized MSE = 4.77e-03\nnew best adversarial: normalized MSE = 4.75e-03\nnew best adversarial: normalized MSE = 4.75e-03\nnew best adversarial: normalized MSE = 4.75e-03\n",
      "new best adversarial: normalized MSE = 4.74e-03\nnew best adversarial: normalized MSE = 4.74e-03\nnew best adversarial: normalized MSE = 4.73e-03\nnew best adversarial: normalized MSE = 4.73e-03\nnew best adversarial: normalized MSE = 4.73e-03\nnew best adversarial: normalized MSE = 4.72e-03\nnew best adversarial: normalized MSE = 4.72e-03\nnew best adversarial: normalized MSE = 4.71e-03\nnew best adversarial: normalized MSE = 4.71e-03\nnew best adversarial: normalized MSE = 4.71e-03\nnew best adversarial: normalized MSE = 4.70e-03\nnew best adversarial: normalized MSE = 4.70e-03\nnew best adversarial: normalized MSE = 4.69e-03\nnew best adversarial: normalized MSE = 4.69e-03\nnew best adversarial: normalized MSE = 4.69e-03\nnew best adversarial: normalized MSE = 4.68e-03\nnew best adversarial: normalized MSE = 4.67e-03\nnew best adversarial: normalized MSE = 4.67e-03\nnew best adversarial: normalized MSE = 4.67e-03\nnew best adversarial: normalized MSE = 4.66e-03\nnew best adversarial: normalized MSE = 4.65e-03\nnew best adversarial: normalized MSE = 4.64e-03\nnew best adversarial: normalized MSE = 4.64e-03\n",
      "new best adversarial: normalized MSE = 4.63e-03\nnew best adversarial: normalized MSE = 4.63e-03\nnew best adversarial: normalized MSE = 4.62e-03\nnew best adversarial: normalized MSE = 4.62e-03\nnew best adversarial: normalized MSE = 4.62e-03\nnew best adversarial: normalized MSE = 4.61e-03\nnew best adversarial: normalized MSE = 4.59e-03\nnew best adversarial: normalized MSE = 4.59e-03\nnew best adversarial: normalized MSE = 4.58e-03\nnew best adversarial: normalized MSE = 4.58e-03\nnew best adversarial: normalized MSE = 4.58e-03\nnew best adversarial: normalized MSE = 4.58e-03\nnew best adversarial: normalized MSE = 4.57e-03\nnew best adversarial: normalized MSE = 4.56e-03\nnew best adversarial: normalized MSE = 4.55e-03\nnew best adversarial: normalized MSE = 4.55e-03\nnew best adversarial: normalized MSE = 4.54e-03\nnew best adversarial: normalized MSE = 4.54e-03\nnew best adversarial: normalized MSE = 4.53e-03\nnew best adversarial: normalized MSE = 4.53e-03\nnew best adversarial: normalized MSE = 4.52e-03\nnew best adversarial: normalized MSE = 4.51e-03\nnew best adversarial: normalized MSE = 4.50e-03\nnew best adversarial: normalized MSE = 4.49e-03\nnew best adversarial: normalized MSE = 4.48e-03\nnew best adversarial: normalized MSE = 4.48e-03\nnew best adversarial: normalized MSE = 4.47e-03\nnew best adversarial: normalized MSE = 4.45e-03\n",
      "new best adversarial: normalized MSE = 4.45e-03\nnew best adversarial: normalized MSE = 4.44e-03\nnew best adversarial: normalized MSE = 4.44e-03\nnew best adversarial: normalized MSE = 4.42e-03\nnew best adversarial: normalized MSE = 4.42e-03\nnew best adversarial: normalized MSE = 4.42e-03\nnew best adversarial: normalized MSE = 4.41e-03\nnew best adversarial: normalized MSE = 4.40e-03\nnew best adversarial: normalized MSE = 4.40e-03\nnew best adversarial: normalized MSE = 4.39e-03\nnew best adversarial: normalized MSE = 4.38e-03\nnew best adversarial: normalized MSE = 4.36e-03\nnew best adversarial: normalized MSE = 4.35e-03\nnew best adversarial: normalized MSE = 4.34e-03\nnew best adversarial: normalized MSE = 4.33e-03\nnew best adversarial: normalized MSE = 4.31e-03\nnew best adversarial: normalized MSE = 4.28e-03\nnew best adversarial: normalized MSE = 4.28e-03\nnew best adversarial: normalized MSE = 4.27e-03\nnew best adversarial: normalized MSE = 4.25e-03\nnew best adversarial: normalized MSE = 4.24e-03\nnew best adversarial: normalized MSE = 4.21e-03\nnew best adversarial: normalized MSE = 4.20e-03\nnew best adversarial: normalized MSE = 4.19e-03\nnew best adversarial: normalized MSE = 4.18e-03\nnew best adversarial: normalized MSE = 4.17e-03\nnew best adversarial: normalized MSE = 4.16e-03\nnew best adversarial: normalized MSE = 4.15e-03\nnew best adversarial: normalized MSE = 4.14e-03\nnew best adversarial: normalized MSE = 4.11e-03\nnew best adversarial: normalized MSE = 4.11e-03\nnew best adversarial: normalized MSE = 4.10e-03\n",
      "new best adversarial: normalized MSE = 4.09e-03\nnew best adversarial: normalized MSE = 4.07e-03\nnew best adversarial: normalized MSE = 4.05e-03\nnew best adversarial: normalized MSE = 4.03e-03\nnew best adversarial: normalized MSE = 4.03e-03\nnew best adversarial: normalized MSE = 4.02e-03\nnew best adversarial: normalized MSE = 4.01e-03\nnew best adversarial: normalized MSE = 3.99e-03\nnew best adversarial: normalized MSE = 3.97e-03\nnew best adversarial: normalized MSE = 3.96e-03\nnew best adversarial: normalized MSE = 3.96e-03\nnew best adversarial: normalized MSE = 3.94e-03\nnew best adversarial: normalized MSE = 3.93e-03\nnew best adversarial: normalized MSE = 3.91e-03\nnew best adversarial: normalized MSE = 3.89e-03\nnew best adversarial: normalized MSE = 3.88e-03\nnew best adversarial: normalized MSE = 3.87e-03\nnew best adversarial: normalized MSE = 3.86e-03\nnew best adversarial: normalized MSE = 3.85e-03\nnew best adversarial: normalized MSE = 3.83e-03\nnew best adversarial: normalized MSE = 3.80e-03\nnew best adversarial: normalized MSE = 3.80e-03\nnew best adversarial: normalized MSE = 3.79e-03\nnew best adversarial: normalized MSE = 3.78e-03\nnew best adversarial: normalized MSE = 3.77e-03\nnew best adversarial: normalized MSE = 3.75e-03\nnew best adversarial: normalized MSE = 3.73e-03\nnew best adversarial: normalized MSE = 3.70e-03\nnew best adversarial: normalized MSE = 3.70e-03\nnew best adversarial: normalized MSE = 3.69e-03\nnew best adversarial: normalized MSE = 3.68e-03\nnew best adversarial: normalized MSE = 3.67e-03\nnew best adversarial: normalized MSE = 3.65e-03\nnew best adversarial: normalized MSE = 3.63e-03\nnew best adversarial: normalized MSE = 3.61e-03\nnew best adversarial: normalized MSE = 3.61e-03\nnew best adversarial: normalized MSE = 3.60e-03\nnew best adversarial: normalized MSE = 3.59e-03\nnew best adversarial: normalized MSE = 3.58e-03\nnew best adversarial: normalized MSE = 3.56e-03\nnew best adversarial: normalized MSE = 3.55e-03\nnew best adversarial: normalized MSE = 3.53e-03\n",
      "new best adversarial: normalized MSE = 3.50e-03\nnew best adversarial: normalized MSE = 3.50e-03\nnew best adversarial: normalized MSE = 3.49e-03\nnew best adversarial: normalized MSE = 3.48e-03\nnew best adversarial: normalized MSE = 3.47e-03\nnew best adversarial: normalized MSE = 3.46e-03\nnew best adversarial: normalized MSE = 3.44e-03\nnew best adversarial: normalized MSE = 3.42e-03\nnew best adversarial: normalized MSE = 3.40e-03\nnew best adversarial: normalized MSE = 3.37e-03\nnew best adversarial: normalized MSE = 3.37e-03\nnew best adversarial: normalized MSE = 3.36e-03\nnew best adversarial: normalized MSE = 3.35e-03\nnew best adversarial: normalized MSE = 3.34e-03\nnew best adversarial: normalized MSE = 3.33e-03\nnew best adversarial: normalized MSE = 3.31e-03\nnew best adversarial: normalized MSE = 3.29e-03\nnew best adversarial: normalized MSE = 3.28e-03\nnew best adversarial: normalized MSE = 3.27e-03\nnew best adversarial: normalized MSE = 3.25e-03\nnew best adversarial: normalized MSE = 3.23e-03\nnew best adversarial: normalized MSE = 3.22e-03\nnew best adversarial: normalized MSE = 3.21e-03\nnew best adversarial: normalized MSE = 3.20e-03\nnew best adversarial: normalized MSE = 3.19e-03\nnew best adversarial: normalized MSE = 3.17e-03\nnew best adversarial: normalized MSE = 3.16e-03\nnew best adversarial: normalized MSE = 3.15e-03\nnew best adversarial: normalized MSE = 3.14e-03\nnew best adversarial: normalized MSE = 3.12e-03\nnew best adversarial: normalized MSE = 3.11e-03\nnew best adversarial: normalized MSE = 3.10e-03\nnew best adversarial: normalized MSE = 3.09e-03\nnew best adversarial: normalized MSE = 3.08e-03\nnew best adversarial: normalized MSE = 3.07e-03\nnew best adversarial: normalized MSE = 3.04e-03\nnew best adversarial: normalized MSE = 3.04e-03\nnew best adversarial: normalized MSE = 3.03e-03\nnew best adversarial: normalized MSE = 3.01e-03\nnew best adversarial: normalized MSE = 3.00e-03\nnew best adversarial: normalized MSE = 2.99e-03\nnew best adversarial: normalized MSE = 2.98e-03\nnew best adversarial: normalized MSE = 2.97e-03\nnew best adversarial: normalized MSE = 2.96e-03\nnew best adversarial: normalized MSE = 2.95e-03\n",
      "new best adversarial: normalized MSE = 2.93e-03\nnew best adversarial: normalized MSE = 2.92e-03\nnew best adversarial: normalized MSE = 2.91e-03\nnew best adversarial: normalized MSE = 2.90e-03\nnew best adversarial: normalized MSE = 2.88e-03\nnew best adversarial: normalized MSE = 2.88e-03\nnew best adversarial: normalized MSE = 2.87e-03\nnew best adversarial: normalized MSE = 2.86e-03\nnew best adversarial: normalized MSE = 2.85e-03\nnew best adversarial: normalized MSE = 2.84e-03\nnew best adversarial: normalized MSE = 2.82e-03\nnew best adversarial: normalized MSE = 2.81e-03\nnew best adversarial: normalized MSE = 2.80e-03\nnew best adversarial: normalized MSE = 2.80e-03\nnew best adversarial: normalized MSE = 2.79e-03\nnew best adversarial: normalized MSE = 2.78e-03\nnew best adversarial: normalized MSE = 2.77e-03\nnew best adversarial: normalized MSE = 2.75e-03\nnew best adversarial: normalized MSE = 2.74e-03\nnew best adversarial: normalized MSE = 2.72e-03\nnew best adversarial: normalized MSE = 2.70e-03\nnew best adversarial: normalized MSE = 2.70e-03\nnew best adversarial: normalized MSE = 2.70e-03\nnew best adversarial: normalized MSE = 2.69e-03\nnew best adversarial: normalized MSE = 2.68e-03\nnew best adversarial: normalized MSE = 2.67e-03\nnew best adversarial: normalized MSE = 2.66e-03\nnew best adversarial: normalized MSE = 2.65e-03\nnew best adversarial: normalized MSE = 2.63e-03\nnew best adversarial: normalized MSE = 2.62e-03\nnew best adversarial: normalized MSE = 2.62e-03\nnew best adversarial: normalized MSE = 2.61e-03\nnew best adversarial: normalized MSE = 2.60e-03\nnew best adversarial: normalized MSE = 2.59e-03\nnew best adversarial: normalized MSE = 2.58e-03\nnew best adversarial: normalized MSE = 2.57e-03\nnew best adversarial: normalized MSE = 2.56e-03\nnew best adversarial: normalized MSE = 2.54e-03\nnew best adversarial: normalized MSE = 2.53e-03\n",
      "new best adversarial: normalized MSE = 2.52e-03\nnew best adversarial: normalized MSE = 2.51e-03\nnew best adversarial: normalized MSE = 2.51e-03\nnew best adversarial: normalized MSE = 2.50e-03\nnew best adversarial: normalized MSE = 2.48e-03\nnew best adversarial: normalized MSE = 2.47e-03\nnew best adversarial: normalized MSE = 2.46e-03\nnew best adversarial: normalized MSE = 2.46e-03\nnew best adversarial: normalized MSE = 2.45e-03\nnew best adversarial: normalized MSE = 2.44e-03\nnew best adversarial: normalized MSE = 2.43e-03\nnew best adversarial: normalized MSE = 2.42e-03\nnew best adversarial: normalized MSE = 2.40e-03\nnew best adversarial: normalized MSE = 2.39e-03\nnew best adversarial: normalized MSE = 2.39e-03\nnew best adversarial: normalized MSE = 2.38e-03\nnew best adversarial: normalized MSE = 2.37e-03\nnew best adversarial: normalized MSE = 2.36e-03\nnew best adversarial: normalized MSE = 2.35e-03\nnew best adversarial: normalized MSE = 2.34e-03\nnew best adversarial: normalized MSE = 2.34e-03\nnew best adversarial: normalized MSE = 2.33e-03\nnew best adversarial: normalized MSE = 2.32e-03\nnew best adversarial: normalized MSE = 2.31e-03\nnew best adversarial: normalized MSE = 2.29e-03\nnew best adversarial: normalized MSE = 2.29e-03\nnew best adversarial: normalized MSE = 2.28e-03\nnew best adversarial: normalized MSE = 2.27e-03\nnew best adversarial: normalized MSE = 2.26e-03\nnew best adversarial: normalized MSE = 2.25e-03\nnew best adversarial: normalized MSE = 2.24e-03\n",
      "new best adversarial: normalized MSE = 2.24e-03\nnew best adversarial: normalized MSE = 2.23e-03\nnew best adversarial: normalized MSE = 2.23e-03\nnew best adversarial: normalized MSE = 2.22e-03\nnew best adversarial: normalized MSE = 2.20e-03\nnew best adversarial: normalized MSE = 2.20e-03\nnew best adversarial: normalized MSE = 2.20e-03\nnew best adversarial: normalized MSE = 2.19e-03\nnew best adversarial: normalized MSE = 2.18e-03\nnew best adversarial: normalized MSE = 2.17e-03\nnew best adversarial: normalized MSE = 2.16e-03\nnew best adversarial: normalized MSE = 2.16e-03\nnew best adversarial: normalized MSE = 2.15e-03\nnew best adversarial: normalized MSE = 2.14e-03\nnew best adversarial: normalized MSE = 2.13e-03\nnew best adversarial: normalized MSE = 2.13e-03\nnew best adversarial: normalized MSE = 2.12e-03\nnew best adversarial: normalized MSE = 2.11e-03\nnew best adversarial: normalized MSE = 2.10e-03\nnew best adversarial: normalized MSE = 2.09e-03\n",
      "new best adversarial: normalized MSE = 2.09e-03\nnew best adversarial: normalized MSE = 2.08e-03\nnew best adversarial: normalized MSE = 2.07e-03\nnew best adversarial: normalized MSE = 2.06e-03\nnew best adversarial: normalized MSE = 2.06e-03\nnew best adversarial: normalized MSE = 2.05e-03\nnew best adversarial: normalized MSE = 2.03e-03\nnew best adversarial: normalized MSE = 2.03e-03\nnew best adversarial: normalized MSE = 2.03e-03\nnew best adversarial: normalized MSE = 2.02e-03\nnew best adversarial: normalized MSE = 2.01e-03\nnew best adversarial: normalized MSE = 2.00e-03\nnew best adversarial: normalized MSE = 2.00e-03\nnew best adversarial: normalized MSE = 1.99e-03\nnew best adversarial: normalized MSE = 1.98e-03\n",
      "new best adversarial: normalized MSE = 1.97e-03\nnew best adversarial: normalized MSE = 1.96e-03\nnew best adversarial: normalized MSE = 1.96e-03\nnew best adversarial: normalized MSE = 1.95e-03\nnew best adversarial: normalized MSE = 1.94e-03\nnew best adversarial: normalized MSE = 1.94e-03\nnew best adversarial: normalized MSE = 1.93e-03\nnew best adversarial: normalized MSE = 1.93e-03\nnew best adversarial: normalized MSE = 1.92e-03\nnew best adversarial: normalized MSE = 1.92e-03\n",
      "new best adversarial: normalized MSE = 1.91e-03\nnew best adversarial: normalized MSE = 1.91e-03\nnew best adversarial: normalized MSE = 1.90e-03\nnew best adversarial: normalized MSE = 1.90e-03\nnew best adversarial: normalized MSE = 1.90e-03\nnew best adversarial: normalized MSE = 1.90e-03\nnew best adversarial: normalized MSE = 1.90e-03\nnew best adversarial: normalized MSE = 1.89e-03\nnew best adversarial: normalized MSE = 1.89e-03\nnew best adversarial: normalized MSE = 1.89e-03\nnew best adversarial: normalized MSE = 1.89e-03\nnew best adversarial: normalized MSE = 1.89e-03\nnew best adversarial: normalized MSE = 1.88e-03\nnew best adversarial: normalized MSE = 1.88e-03\nnew best adversarial: normalized MSE = 1.88e-03\n",
      "new best adversarial: normalized MSE = 1.88e-03\nnew best adversarial: normalized MSE = 1.88e-03\nnew best adversarial: normalized MSE = 1.88e-03\nnew best adversarial: normalized MSE = 1.88e-03\nnew best adversarial: normalized MSE = 1.87e-03\nnew best adversarial: normalized MSE = 1.87e-03\nnew best adversarial: normalized MSE = 1.87e-03\nnew best adversarial: normalized MSE = 1.87e-03\nnew best adversarial: normalized MSE = 1.87e-03\nnew best adversarial: normalized MSE = 1.87e-03\nnew best adversarial: normalized MSE = 1.87e-03\nnew best adversarial: normalized MSE = 1.86e-03\n",
      "new best adversarial: normalized MSE = 1.86e-03\nnew best adversarial: normalized MSE = 1.86e-03\nnew best adversarial: normalized MSE = 1.86e-03\nnew best adversarial: normalized MSE = 1.86e-03\nnew best adversarial: normalized MSE = 1.86e-03\nnew best adversarial: normalized MSE = 1.85e-03\n",
      "new best adversarial: normalized MSE = 1.85e-03\nnew best adversarial: normalized MSE = 1.85e-03\nnew best adversarial: normalized MSE = 1.85e-03\nnew best adversarial: normalized MSE = 1.85e-03\nnew best adversarial: normalized MSE = 1.85e-03\nnew best adversarial: normalized MSE = 1.85e-03\nnew best adversarial: normalized MSE = 1.85e-03\nnew best adversarial: normalized MSE = 1.84e-03\nnew best adversarial: normalized MSE = 1.84e-03\nnew best adversarial: normalized MSE = 1.84e-03\nnew best adversarial: normalized MSE = 1.84e-03\nnew best adversarial: normalized MSE = 1.84e-03\n",
      "new best adversarial: normalized MSE = 1.84e-03\nnew best adversarial: normalized MSE = 1.84e-03\nnew best adversarial: normalized MSE = 1.84e-03\nnew best adversarial: normalized MSE = 1.84e-03\nnew best adversarial: normalized MSE = 1.83e-03\n",
      "new best adversarial: normalized MSE = 1.83e-03\nnew best adversarial: normalized MSE = 1.83e-03\nnew best adversarial: normalized MSE = 1.82e-03\nnew best adversarial: normalized MSE = 1.82e-03\n",
      "new best adversarial: normalized MSE = 1.82e-03\nnew best adversarial: normalized MSE = 1.82e-03\nnew best adversarial: normalized MSE = 1.82e-03\n",
      "new best adversarial: normalized MSE = 1.82e-03\nnew best adversarial: normalized MSE = 1.82e-03\nnew best adversarial: normalized MSE = 1.81e-03\n",
      "new best adversarial: normalized MSE = 1.81e-03\nnew best adversarial: normalized MSE = 1.81e-03\nnew best adversarial: normalized MSE = 1.81e-03\nnew best adversarial: normalized MSE = 1.81e-03\nnew best adversarial: normalized MSE = 1.81e-03\n",
      "new best adversarial: normalized MSE = 1.81e-03\nnew best adversarial: normalized MSE = 1.81e-03\nnew best adversarial: normalized MSE = 1.81e-03\nnew best adversarial: normalized MSE = 1.81e-03\nnew best adversarial: normalized MSE = 1.81e-03\nnew best adversarial: normalized MSE = 1.80e-03\nnew best adversarial: normalized MSE = 1.80e-03\n",
      "new best adversarial: normalized MSE = 1.80e-03\nnew best adversarial: normalized MSE = 1.80e-03\nnew best adversarial: normalized MSE = 1.80e-03\nnew best adversarial: normalized MSE = 1.80e-03\nnew best adversarial: normalized MSE = 1.80e-03\n",
      "new best adversarial: normalized MSE = 1.80e-03\nnew best adversarial: normalized MSE = 1.80e-03\nnew best adversarial: normalized MSE = 1.80e-03\nnew best adversarial: normalized MSE = 1.80e-03\nnew best adversarial: normalized MSE = 1.80e-03\nnew best adversarial: normalized MSE = 1.80e-03\nnew best adversarial: normalized MSE = 1.80e-03\n",
      "new best adversarial: normalized MSE = 1.80e-03\nnew best adversarial: normalized MSE = 1.80e-03\nnew best adversarial: normalized MSE = 1.80e-03\nnew best adversarial: normalized MSE = 1.79e-03\nnew best adversarial: normalized MSE = 1.79e-03\nnew best adversarial: normalized MSE = 1.79e-03\n",
      "new best adversarial: normalized MSE = 1.79e-03\n",
      "new best adversarial: normalized MSE = 1.79e-03\nnew best adversarial: normalized MSE = 1.79e-03\n",
      "new best adversarial: normalized MSE = 1.79e-03\nnew best adversarial: normalized MSE = 1.79e-03\n",
      "new best adversarial: normalized MSE = 1.79e-03\nnew best adversarial: normalized MSE = 1.79e-03\n",
      "new best adversarial: normalized MSE = 1.79e-03\nnew best adversarial: normalized MSE = 1.79e-03\nnew best adversarial: normalized MSE = 1.79e-03\n",
      "new best adversarial: normalized MSE = 1.79e-03\nnew best adversarial: normalized MSE = 1.78e-03\nnew best adversarial: normalized MSE = 1.78e-03\nnew best adversarial: normalized MSE = 1.78e-03\n",
      "new best adversarial: normalized MSE = 1.78e-03\nnew best adversarial: normalized MSE = 1.78e-03\n",
      "new best adversarial: normalized MSE = 1.78e-03\n",
      "new best adversarial: normalized MSE = 1.78e-03\nnew best adversarial: normalized MSE = 1.78e-03\n",
      "new best adversarial: normalized MSE = 1.78e-03\nnew best adversarial: normalized MSE = 1.78e-03\nnew best adversarial: normalized MSE = 1.77e-03\nnew best adversarial: normalized MSE = 1.77e-03\nnew best adversarial: normalized MSE = 1.77e-03\nnew best adversarial: normalized MSE = 1.76e-03\nnew best adversarial: normalized MSE = 1.76e-03\nnew best adversarial: normalized MSE = 1.76e-03\nnew best adversarial: normalized MSE = 1.76e-03\nnew best adversarial: normalized MSE = 1.76e-03\nnew best adversarial: normalized MSE = 1.76e-03\n",
      "new best adversarial: normalized MSE = 1.76e-03\nnew best adversarial: normalized MSE = 1.75e-03\nnew best adversarial: normalized MSE = 1.75e-03\nnew best adversarial: normalized MSE = 1.75e-03\nnew best adversarial: normalized MSE = 1.75e-03\nnew best adversarial: normalized MSE = 1.74e-03\nnew best adversarial: normalized MSE = 1.74e-03\nnew best adversarial: normalized MSE = 1.74e-03\nnew best adversarial: normalized MSE = 1.74e-03\nnew best adversarial: normalized MSE = 1.74e-03\nnew best adversarial: normalized MSE = 1.73e-03\nnew best adversarial: normalized MSE = 1.73e-03\nnew best adversarial: normalized MSE = 1.73e-03\n",
      "new best adversarial: normalized MSE = 1.72e-03\nnew best adversarial: normalized MSE = 1.72e-03\nnew best adversarial: normalized MSE = 1.72e-03\nnew best adversarial: normalized MSE = 1.72e-03\nnew best adversarial: normalized MSE = 1.72e-03\nnew best adversarial: normalized MSE = 1.71e-03\nnew best adversarial: normalized MSE = 1.71e-03\nnew best adversarial: normalized MSE = 1.71e-03\n",
      "new best adversarial: normalized MSE = 1.71e-03\nnew best adversarial: normalized MSE = 1.70e-03\nnew best adversarial: normalized MSE = 1.70e-03\nnew best adversarial: normalized MSE = 1.70e-03\nnew best adversarial: normalized MSE = 1.70e-03\n",
      "new best adversarial: normalized MSE = 1.69e-03\nnew best adversarial: normalized MSE = 1.69e-03\nnew best adversarial: normalized MSE = 1.69e-03\nnew best adversarial: normalized MSE = 1.69e-03\nnew best adversarial: normalized MSE = 1.69e-03\nnew best adversarial: normalized MSE = 1.69e-03\nnew best adversarial: normalized MSE = 1.69e-03\nnew best adversarial: normalized MSE = 1.69e-03\n",
      "new best adversarial: normalized MSE = 1.69e-03\nnew best adversarial: normalized MSE = 1.69e-03\nnew best adversarial: normalized MSE = 1.68e-03\n",
      "new best adversarial: normalized MSE = 1.68e-03\nnew best adversarial: normalized MSE = 1.68e-03\nnew best adversarial: normalized MSE = 1.68e-03\nnew best adversarial: normalized MSE = 1.68e-03\nnew best adversarial: normalized MSE = 1.68e-03\n",
      "new best adversarial: normalized MSE = 1.68e-03\nnew best adversarial: normalized MSE = 1.68e-03\nnew best adversarial: normalized MSE = 1.67e-03\nnew best adversarial: normalized MSE = 1.67e-03\nnew best adversarial: normalized MSE = 1.67e-03\nnew best adversarial: normalized MSE = 1.67e-03\n",
      "new best adversarial: normalized MSE = 1.67e-03\nnew best adversarial: normalized MSE = 1.67e-03\nnew best adversarial: normalized MSE = 1.67e-03\nnew best adversarial: normalized MSE = 1.67e-03\n",
      "new best adversarial: normalized MSE = 1.67e-03\nnew best adversarial: normalized MSE = 1.67e-03\nnew best adversarial: normalized MSE = 1.67e-03\nnew best adversarial: normalized MSE = 1.67e-03\nnew best adversarial: normalized MSE = 1.67e-03\n",
      "new best adversarial: normalized MSE = 1.67e-03\nnew best adversarial: normalized MSE = 1.67e-03\n",
      "new best adversarial: normalized MSE = 1.66e-03\nnew best adversarial: normalized MSE = 1.66e-03\nnew best adversarial: normalized MSE = 1.66e-03\nnew best adversarial: normalized MSE = 1.66e-03\n",
      "new best adversarial: normalized MSE = 1.66e-03\nnew best adversarial: normalized MSE = 1.66e-03\nnew best adversarial: normalized MSE = 1.66e-03\nnew best adversarial: normalized MSE = 1.66e-03\nnew best adversarial: normalized MSE = 1.66e-03\nnew best adversarial: normalized MSE = 1.66e-03\n",
      "new best adversarial: normalized MSE = 1.66e-03\nnew best adversarial: normalized MSE = 1.66e-03\nnew best adversarial: normalized MSE = 1.66e-03\nnew best adversarial: normalized MSE = 1.66e-03\nnew best adversarial: normalized MSE = 1.66e-03\nnew best adversarial: normalized MSE = 1.66e-03\n",
      "new best adversarial: normalized MSE = 1.66e-03\nnew best adversarial: normalized MSE = 1.66e-03\nnew best adversarial: normalized MSE = 1.66e-03\nnew best adversarial: normalized MSE = 1.66e-03\nnew best adversarial: normalized MSE = 1.66e-03\nnew best adversarial: normalized MSE = 1.65e-03\nnew best adversarial: normalized MSE = 1.65e-03\n",
      "new best adversarial: normalized MSE = 1.65e-03\nnew best adversarial: normalized MSE = 1.65e-03\nnew best adversarial: normalized MSE = 1.65e-03\nnew best adversarial: normalized MSE = 1.65e-03\nnew best adversarial: normalized MSE = 1.65e-03\nnew best adversarial: normalized MSE = 1.65e-03\n",
      "new best adversarial: normalized MSE = 1.64e-03\nnew best adversarial: normalized MSE = 1.64e-03\nnew best adversarial: normalized MSE = 1.64e-03\nnew best adversarial: normalized MSE = 1.64e-03\n",
      "new best adversarial: normalized MSE = 1.64e-03\nnew best adversarial: normalized MSE = 1.64e-03\nnew best adversarial: normalized MSE = 1.64e-03\nnew best adversarial: normalized MSE = 1.64e-03\n",
      "new best adversarial: normalized MSE = 1.64e-03\nnew best adversarial: normalized MSE = 1.64e-03\nnew best adversarial: normalized MSE = 1.64e-03\nnew best adversarial: normalized MSE = 1.64e-03\n",
      "new best adversarial: normalized MSE = 1.64e-03\nnew best adversarial: normalized MSE = 1.64e-03\nnew best adversarial: normalized MSE = 1.64e-03\nnew best adversarial: normalized MSE = 1.64e-03\nnew best adversarial: normalized MSE = 1.64e-03\n",
      "new best adversarial: normalized MSE = 1.63e-03\nnew best adversarial: normalized MSE = 1.63e-03\nnew best adversarial: normalized MSE = 1.63e-03\nnew best adversarial: normalized MSE = 1.63e-03\n",
      "new best adversarial: normalized MSE = 1.63e-03\nnew best adversarial: normalized MSE = 1.63e-03\nnew best adversarial: normalized MSE = 1.63e-03\n",
      "new best adversarial: normalized MSE = 1.63e-03\nnew best adversarial: normalized MSE = 1.63e-03\n",
      "new best adversarial: normalized MSE = 1.63e-03\nnew best adversarial: normalized MSE = 1.63e-03\nnew best adversarial: normalized MSE = 1.63e-03\nnew best adversarial: normalized MSE = 1.63e-03\nnew best adversarial: normalized MSE = 1.62e-03\n",
      "new best adversarial: normalized MSE = 1.62e-03\nnew best adversarial: normalized MSE = 1.62e-03\nnew best adversarial: normalized MSE = 1.62e-03\n",
      "new best adversarial: normalized MSE = 1.62e-03\nnew best adversarial: normalized MSE = 1.62e-03\nnew best adversarial: normalized MSE = 1.62e-03\n",
      "new best adversarial: normalized MSE = 1.62e-03\nnew best adversarial: normalized MSE = 1.62e-03\nnew best adversarial: normalized MSE = 1.62e-03\nnew best adversarial: normalized MSE = 1.62e-03\nnew best adversarial: normalized MSE = 1.62e-03\nnew best adversarial: normalized MSE = 1.62e-03\n",
      "new best adversarial: normalized MSE = 1.62e-03\nnew best adversarial: normalized MSE = 1.62e-03\nnew best adversarial: normalized MSE = 1.62e-03\n",
      "new best adversarial: normalized MSE = 1.62e-03\nnew best adversarial: normalized MSE = 1.62e-03\nnew best adversarial: normalized MSE = 1.62e-03\n",
      "new best adversarial: normalized MSE = 1.62e-03\nnew best adversarial: normalized MSE = 1.62e-03\n",
      "new best adversarial: normalized MSE = 1.62e-03\nnew best adversarial: normalized MSE = 1.62e-03\nnew best adversarial: normalized MSE = 1.61e-03\nnew best adversarial: normalized MSE = 1.61e-03\nnew best adversarial: normalized MSE = 1.61e-03\nnew best adversarial: normalized MSE = 1.61e-03\n",
      "new best adversarial: normalized MSE = 1.61e-03\nnew best adversarial: normalized MSE = 1.61e-03\nnew best adversarial: normalized MSE = 1.61e-03\nnew best adversarial: normalized MSE = 1.61e-03\nnew best adversarial: normalized MSE = 1.61e-03\n",
      "new best adversarial: normalized MSE = 1.61e-03\nnew best adversarial: normalized MSE = 1.61e-03\n",
      "new best adversarial: normalized MSE = 1.61e-03\nnew best adversarial: normalized MSE = 1.61e-03\nnew best adversarial: normalized MSE = 1.61e-03\n",
      "new best adversarial: normalized MSE = 1.60e-03\nnew best adversarial: normalized MSE = 1.60e-03\nnew best adversarial: normalized MSE = 1.60e-03\n",
      "new best adversarial: normalized MSE = 1.60e-03\n",
      "new best adversarial: normalized MSE = 1.60e-03\n",
      "new best adversarial: normalized MSE = 1.60e-03\nnew best adversarial: normalized MSE = 1.60e-03\n",
      "new best adversarial: normalized MSE = 1.60e-03\n",
      "new best adversarial: normalized MSE = 1.60e-03\n"
     ],
     "output_type": "stream"
    }
   ],
   "source": [
    "adversary = metric(image, label, unpack=False, binary_search_steps=10, max_iterations=2000)\n"
   ],
   "metadata": {
    "collapsed": false,
    "pycharm": {
     "name": "#%%\n",
     "is_executing": false
    }
   }
  },
  {
   "cell_type": "code",
   "execution_count": 46,
   "outputs": [
    {
     "name": "stdout",
     "text": [
      "normalized MSE = 1.60e-03\n"
     ],
     "output_type": "stream"
    }
   ],
   "source": [
    "print(adversary.distance)"
   ],
   "metadata": {
    "collapsed": false,
    "pycharm": {
     "name": "#%%\n",
     "is_executing": false
    }
   }
  },
  {
   "cell_type": "code",
   "execution_count": 38,
   "outputs": [
    {
     "name": "stdout",
     "text": [
      "5.87e-05\n"
     ],
     "output_type": "stream"
    }
   ],
   "source": [
    "from perceptron.utils.tools import bound\n",
    "ret = bound(image, model=fmodel, sd=0.8, num_class=10, num_iter=100)\n",
    "print(\"{:.2e}\".format(ret/784.))"
   ],
   "metadata": {
    "collapsed": false,
    "pycharm": {
     "name": "#%%\n",
     "is_executing": false
    }
   }
  },
  {
   "cell_type": "code",
   "execution_count": 28,
   "outputs": [],
   "source": [],
   "metadata": {
    "collapsed": false,
    "pycharm": {
     "name": "#%%\n",
     "is_executing": false
    }
   }
  },
  {
   "cell_type": "code",
   "execution_count": null,
   "outputs": [],
   "source": [
    "\n"
   ],
   "metadata": {
    "collapsed": false,
    "pycharm": {
     "name": "#%%\n"
    }
   }
  }
 ],
 "metadata": {
  "language_info": {
   "codemirror_mode": {
    "name": "ipython",
    "version": 2
   },
   "file_extension": ".py",
   "mimetype": "text/x-python",
   "name": "python",
   "nbconvert_exporter": "python",
   "pygments_lexer": "ipython2",
   "version": "2.7.6"
  },
  "kernelspec": {
   "name": "pycharm-cb9c8da",
   "language": "python",
   "display_name": "PyCharm (dr)"
  },
  "pycharm": {
   "stem_cell": {
    "cell_type": "raw",
    "source": [],
    "metadata": {
     "collapsed": false
    }
   }
  }
 },
 "nbformat": 4,
 "nbformat_minor": 0
}